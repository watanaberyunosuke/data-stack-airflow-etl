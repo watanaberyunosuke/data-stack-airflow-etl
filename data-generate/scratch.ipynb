{
 "cells": [
  {
   "cell_type": "code",
   "execution_count": 20,
   "metadata": {},
   "outputs": [
    {
     "name": "stdout",
     "output_type": "stream",
     "text": [
      "{'name': 'Apple Juice Canberra', 'city': 'Canberra', 'price': 7.7, 'product_id': 1}\n",
      "{'name': 'Apple Juice Sydney', 'city': 'Sydney', 'price': 6.8, 'product_id': 2}\n",
      "{'name': 'Apple Juice Melbourne', 'city': 'Melbourne', 'price': 8.7, 'product_id': 3}\n",
      "{'name': 'Apple Juice Brisbane', 'city': 'Brisbane', 'price': 6.3, 'product_id': 4}\n",
      "{'name': 'Apple Juice Adelaide', 'city': 'Adelaide', 'price': 8.0, 'product_id': 5}\n"
     ]
    }
   ],
   "source": [
    "from datetime import date, timedelta\n",
    "import itertools\n",
    "import names\n",
    "from random import randint, randrange\n",
    "\n",
    "start_date_limit = date(2000, 1, 1)\n",
    "current_datetime = date.today()\n",
    "end_date_limit = date(\n",
    "    current_datetime.year, current_datetime.month, current_datetime.day\n",
    ")\n",
    "time_delta = end_date_limit - start_date_limit\n",
    "\n",
    "ALL_DAYS = [\n",
    "    str(start_date_limit + timedelta(days=i)) for i in range(time_delta.days + 1)\n",
    "]\n",
    "\n",
    "CITIES_RANGE = [\n",
    "    \"Canberra\",\n",
    "    \"Sydney\",\n",
    "    \"Melbourne\",\n",
    "    \"Brisbane\",\n",
    "    \"Adelaide\",\n",
    "    \"Perth\",\n",
    "    \"Darwin\",\n",
    "    \"Geelong\",\n",
    "    \"Townsville\",\n",
    "    \"Gold Coast\",\n",
    "    \"Sunshine Coast\",\n",
    "    \"Coffs Harbour\",\n",
    "    \"Wollongong\",\n",
    "    \"Cairns\",\n",
    "]\n",
    "PRODUCT_NAME = [\"Apple Juice\", \"Orange Juice\", \"Guava Juice\"]\n",
    "ORDER_METHOD = [\"Walk In\", \"Official App\", \"Other App\", \"Web\"]\n",
    "PRODUCTS = []\n",
    "\n",
    "FIRST_NAMES = [names.get_first_name() for i in range(1000)]\n",
    "LAST_NAMES = [names.get_last_name() for i in range(1000)]\n",
    "\n",
    "XML_RESELLERS = [1001, 1002]\n",
    "CSV_RESELLERS = [1003, 1004]\n",
    "\n",
    "cities = [i.title() for i in CITIES_RANGE]\n",
    "\n",
    "\n",
    "# Generate random date\n",
    "def random_date():\n",
    "    result = start_date_limit + timedelta(\n",
    "        seconds=randint(0, int((end_date_limit - start_date_limit).total_seconds()))\n",
    "    )\n",
    "    return result\n",
    "\n",
    "\n",
    "# Generate product data\n",
    "product_data = [i for i in itertools.product(PRODUCT_NAME, cities)]\n",
    "\n",
    "PRODUCT_ID = 1\n",
    "\n",
    "for e in product_data:\n",
    "    PRODUCTS.append(\n",
    "        {\n",
    "            \"name\": f\"{e[0]} {e[1]}\",\n",
    "            \"city\": e[1],\n",
    "            \"price\": randrange(60, 100) / 10.0,\n",
    "            \"product_id\": PRODUCT_ID,\n",
    "        }\n",
    "    )\n",
    "    PRODUCT_ID += 1\n",
    "\n",
    "# Print a sample of the PRODUCTS list to verify\n",
    "for product in PRODUCTS[:5]:\n",
    "    print(product)"
   ]
  },
  {
   "cell_type": "code",
   "execution_count": 7,
   "metadata": {},
   "outputs": [
    {
     "ename": "NameError",
     "evalue": "name 'year' is not defined",
     "output_type": "error",
     "traceback": [
      "\u001b[0;31m---------------------------------------------------------------------------\u001b[0m",
      "\u001b[0;31mNameError\u001b[0m                                 Traceback (most recent call last)",
      "Cell \u001b[0;32mIn[7], line 1\u001b[0m\n\u001b[0;32m----> 1\u001b[0m datetime(\u001b[43myear\u001b[49m)\u001b[38;5;241m.\u001b[39mnow()\n",
      "\u001b[0;31mNameError\u001b[0m: name 'year' is not defined"
     ]
    }
   ],
   "source": []
  },
  {
   "cell_type": "code",
   "execution_count": 15,
   "metadata": {},
   "outputs": [
    {
     "name": "stdout",
     "output_type": "stream",
     "text": [
      "8934 days, 0:00:00\n"
     ]
    }
   ],
   "source": [
    "start_date_limit = date(2000, 1, 1)\n",
    "current_datetime = date.today()\n",
    "end_date_limit = date(\n",
    "    current_datetime.year, current_datetime.month, current_datetime.day\n",
    ")\n",
    "time_delta = end_date_limit - start_date_limit\n",
    "\n",
    "print(time_delta)"
   ]
  },
  {
   "cell_type": "code",
   "execution_count": 14,
   "metadata": {},
   "outputs": [
    {
     "name": "stdout",
     "output_type": "stream",
     "text": [
      "2024-06-17\n"
     ]
    }
   ],
   "source": [
    "print(end_date_limit)"
   ]
  },
  {
   "cell_type": "code",
   "execution_count": null,
   "metadata": {},
   "outputs": [],
   "source": []
  }
 ],
 "metadata": {
  "kernelspec": {
   "display_name": "airflow-etl",
   "language": "python",
   "name": "python3"
  },
  "language_info": {
   "codemirror_mode": {
    "name": "ipython",
    "version": 3
   },
   "file_extension": ".py",
   "mimetype": "text/x-python",
   "name": "python",
   "nbconvert_exporter": "python",
   "pygments_lexer": "ipython3",
   "version": "3.10.0"
  }
 },
 "nbformat": 4,
 "nbformat_minor": 2
}
